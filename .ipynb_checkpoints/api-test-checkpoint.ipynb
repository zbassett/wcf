{
 "cells": [
  {
   "cell_type": "code",
   "execution_count": 1,
   "metadata": {},
   "outputs": [],
   "source": [
    "import requests\n",
    "import pandas as pd"
   ]
  },
  {
   "cell_type": "code",
   "execution_count": 7,
   "metadata": {},
   "outputs": [
    {
     "data": {
      "text/plain": [
       "200"
      ]
     },
     "execution_count": 7,
     "metadata": {},
     "output_type": "execute_result"
    }
   ],
   "source": [
    "user = 'ZachBassett@wcf.com'\n",
    "pswd = ''\n",
    "\n",
    "r = requests.post('http://resultsapi.azurewebsites.net/api/Authorize', data={'Username':user,'Password':pswd})\n",
    "r.status_code"
   ]
  },
  {
   "cell_type": "code",
   "execution_count": 8,
   "metadata": {},
   "outputs": [
    {
     "data": {
      "text/plain": [
       "'0ffb254b-6156-4d83-b800-0fd85cede2d2'"
      ]
     },
     "execution_count": 8,
     "metadata": {},
     "output_type": "execute_result"
    }
   ],
   "source": [
    "r.json()"
   ]
  },
  {
   "cell_type": "code",
   "execution_count": 9,
   "metadata": {},
   "outputs": [
    {
     "data": {
      "text/plain": [
       "{'Accept': 'application/json',\n",
       " 'Accept-Encoding': 'gzip, deflate',\n",
       " 'Authorize': 'Basic 0ffb254b-6156-4d83-b800-0fd85cede2d2'}"
      ]
     },
     "execution_count": 9,
     "metadata": {},
     "output_type": "execute_result"
    }
   ],
   "source": [
    "tkn = 'Basic ' + r.json()\n",
    "hdrs = {'Accept':'application/json',\n",
    "        'Authorize':tkn,\n",
    "        'Accept-Encoding':'gzip, deflate',\n",
    "        #'Host':'resultsapi.azurewebsites.net'\n",
    "       }\n",
    "hdrs"
   ]
  },
  {
   "cell_type": "code",
   "execution_count": 10,
   "metadata": {},
   "outputs": [
    {
     "data": {
      "text/plain": [
       "200"
      ]
     },
     "execution_count": 10,
     "metadata": {},
     "output_type": "execute_result"
    }
   ],
   "source": [
    "payload = {'details':'none'\n",
    "           ,'firstname':'Birr'\n",
    "           #,'surname':'lewij'\n",
    "           }\n",
    "\n",
    "p = requests.get('http://resultsapi.azurewebsites.net/api/People',headers=hdrs,params=payload)\n",
    "p.status_code"
   ]
  },
  {
   "cell_type": "code",
   "execution_count": 11,
   "metadata": {},
   "outputs": [
    {
     "data": {
      "text/plain": [
       "[{'Appearances': None,\n",
       "  'Associations': [{'AssociationId': 8,\n",
       "    'Code': 'USA',\n",
       "    'EndDate': None,\n",
       "    'FlagFileName': 'http://wcfresults.azurewebsites.net/Content/Images/Flags/usa.gif',\n",
       "    'FlagFileX': 128,\n",
       "    'FlagFileY': 64,\n",
       "    'Links': [],\n",
       "    'Name': 'United States of America',\n",
       "    'OfficialName': 'United States Curling Association',\n",
       "    'StartDate': '1966-01-01T00:00:00'}],\n",
       "  'Awards': None,\n",
       "  'BirthDate': None,\n",
       "  'CoachAppearances': None,\n",
       "  'ContinentalCupAppearances': None,\n",
       "  'DateOfDeath': None,\n",
       "  'Delivery': {'Code': 2, 'Name': 'Right', 'ShortName': 'R'},\n",
       "  'FirstName': 'Kevin',\n",
       "  'Gender': {'Code': 1, 'Name': 'Male', 'ShortName': 'M'},\n",
       "  'InformationLinks': None,\n",
       "  'Initial': None,\n",
       "  'Jobs': None,\n",
       "  'Links': [],\n",
       "  'Names': None,\n",
       "  'OdfId': None,\n",
       "  'OfficialAppearances': None,\n",
       "  'PersonId': 4998,\n",
       "  'Relations': None,\n",
       "  'SurName': 'Birr',\n",
       "  'WCFKey': None},\n",
       " {'Appearances': None,\n",
       "  'Associations': [{'AssociationId': 8,\n",
       "    'Code': 'USA',\n",
       "    'EndDate': None,\n",
       "    'FlagFileName': 'http://wcfresults.azurewebsites.net/Content/Images/Flags/usa.gif',\n",
       "    'FlagFileX': 128,\n",
       "    'FlagFileY': 64,\n",
       "    'Links': [],\n",
       "    'Name': 'United States of America',\n",
       "    'OfficialName': 'United States Curling Association',\n",
       "    'StartDate': '1966-01-01T00:00:00'}],\n",
       "  'Awards': None,\n",
       "  'BirthDate': None,\n",
       "  'CoachAppearances': None,\n",
       "  'ContinentalCupAppearances': None,\n",
       "  'DateOfDeath': None,\n",
       "  'Delivery': {'Code': 2, 'Name': 'Right', 'ShortName': 'R'},\n",
       "  'FirstName': 'Todd',\n",
       "  'Gender': {'Code': 1, 'Name': 'Male', 'ShortName': 'M'},\n",
       "  'InformationLinks': None,\n",
       "  'Initial': None,\n",
       "  'Jobs': None,\n",
       "  'Links': [],\n",
       "  'Names': None,\n",
       "  'OdfId': None,\n",
       "  'OfficialAppearances': None,\n",
       "  'PersonId': 4996,\n",
       "  'Relations': None,\n",
       "  'SurName': 'Birr',\n",
       "  'WCFKey': None}]"
      ]
     },
     "execution_count": 11,
     "metadata": {},
     "output_type": "execute_result"
    }
   ],
   "source": [
    "p.json()"
   ]
  },
  {
   "cell_type": "code",
   "execution_count": null,
   "metadata": {},
   "outputs": [],
   "source": []
  }
 ],
 "metadata": {
  "kernelspec": {
   "display_name": "Python 3",
   "language": "python",
   "name": "python3"
  },
  "language_info": {
   "codemirror_mode": {
    "name": "ipython",
    "version": 3
   },
   "file_extension": ".py",
   "mimetype": "text/x-python",
   "name": "python",
   "nbconvert_exporter": "python",
   "pygments_lexer": "ipython3",
   "version": "3.6.2"
  }
 },
 "nbformat": 4,
 "nbformat_minor": 2
}
